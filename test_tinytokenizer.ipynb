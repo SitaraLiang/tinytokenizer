{
 "cells": [
  {
   "cell_type": "code",
   "execution_count": 1,
   "id": "75a7494d",
   "metadata": {},
   "outputs": [],
   "source": [
    "from src.tinytokenizer import TinyTokenizer"
   ]
  },
  {
   "cell_type": "code",
   "execution_count": 2,
   "id": "6ac88703",
   "metadata": {},
   "outputs": [
    {
     "name": "stdout",
     "output_type": "stream",
     "text": [
      "[1] merging (72, 97) -> 256\n",
      "[2] merging (256, 114) -> 257\n",
      "[3] merging (257, 114) -> 258\n",
      "[4] merging (258, 121) -> 259\n",
      "[5] merging (259, 32) -> 260\n",
      "[6] merging (260, 80) -> 261\n",
      "[7] merging (261, 111) -> 262\n",
      "[8] merging (262, 116) -> 263\n",
      "[9] merging (263, 116) -> 264\n",
      "[10] merging (264, 101) -> 265\n",
      "[11] merging (265, 114) -> 266\n",
      "[12] merging (266, 33) -> 267\n"
     ]
    }
   ],
   "source": [
    "text1 = \"Harry Potter!\"\n",
    "tokenizer = TinyTokenizer(vocab_size=270)\n",
    "tokenizer.train(text1)  # build merges & vocab first"
   ]
  },
  {
   "cell_type": "code",
   "execution_count": 3,
   "id": "313882f0",
   "metadata": {},
   "outputs": [
    {
     "name": "stdout",
     "output_type": "stream",
     "text": [
      "Harry Potter!\n",
      "True\n"
     ]
    }
   ],
   "source": [
    "ids = tokenizer.encode(text1)\n",
    "text2 = tokenizer.decode(ids)\n",
    "\n",
    "print(text2)          # should print: Harry Potter!\n",
    "print(text2 == text1) # True"
   ]
  }
 ],
 "metadata": {
  "kernelspec": {
   "display_name": "base",
   "language": "python",
   "name": "python3"
  },
  "language_info": {
   "codemirror_mode": {
    "name": "ipython",
    "version": 3
   },
   "file_extension": ".py",
   "mimetype": "text/x-python",
   "name": "python",
   "nbconvert_exporter": "python",
   "pygments_lexer": "ipython3",
   "version": "3.12.10"
  }
 },
 "nbformat": 4,
 "nbformat_minor": 5
}
